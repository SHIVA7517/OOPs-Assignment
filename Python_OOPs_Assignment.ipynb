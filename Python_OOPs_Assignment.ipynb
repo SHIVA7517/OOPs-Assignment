{
  "nbformat": 4,
  "nbformat_minor": 0,
  "metadata": {
    "colab": {
      "provenance": []
    },
    "kernelspec": {
      "name": "python3",
      "display_name": "Python 3"
    },
    "language_info": {
      "name": "python"
    }
  },
  "cells": [
    {
      "cell_type": "markdown",
      "source": [
        "# Theory Questions-:\n",
        "\n",
        "Python OOPs - Theory Questions\n",
        "\n",
        "1.What is Object-Oriented Programming (OOP)?\n",
        "Ans-OOP is a programming paradigm based on objects that encapsulate data and behavior. It promotes concepts like inheritance, polymorphism, abstraction, and encapsulation.\n",
        "\n",
        "2.What is a class in OOP?\n",
        "Ans-A class is a blueprint for creating objects. It defines attributes (data) and methods (functions) that operate on the data.\n",
        "\n",
        "3.What is an object in OOP?\n",
        "Ans-An object is an instance of a class that holds data and methods defined in the class.\n",
        "\n",
        "4.What is the difference between abstraction and encapsulation?\n",
        "Ans-Abstraction hides implementation details and only exposes essential functionalities.\n",
        "Encapsulation bundles data and methods together and restricts direct access.\n",
        "\n",
        "5.What are dunder methods in Python?\n",
        "Ans-Dunder (double underscore) methods are special methods in Python that start and end with __. Examples include __init__, __str__, __repr__.\n",
        "\n",
        "6.Explain the concept of inheritance in OOP.\n",
        "Ans-Inheritance allows a class to derive attributes and behaviors from another class, reducing redundancy.\n",
        "\n",
        "7.What is polymorphism in OOP?\n",
        "Ans-Polymorphism allows objects of different classes to be treated as objects of a common superclass, enabling method overriding and overloading.\n",
        "\n",
        "8.How is encapsulation achieved in Python?\n",
        "Ans-By using private (__var), protected (_var), and public (var) access specifiers.\n",
        "\n",
        "9.What is a constructor in Python?\n",
        "Ans-The __init__ method is a constructor that initializes an object’s attributes.\n",
        "\n",
        "10.What are class and static methods in Python?\n",
        "Ans-Class methods (@classmethod) modify class-level attributes.\n",
        "Static methods (@staticmethod) do not modify class or instance attributes.\n",
        "\n",
        "11.What is method overloading in Python?\n",
        "Ans-Python does not support method overloading directly, but it can be achieved using default arguments.\n",
        "\n",
        "12.What is method overriding in OOP?\n",
        "Ans-Method overriding allows a subclass to provide a different implementation of a method defined in the parent class.\n",
        "\n",
        "13.What is a property decorator in Python?\n",
        "Ans-The @property decorator is used to define getter and setter methods for attributes.\n",
        "\n",
        "14.Why is polymorphism important in OOP?\n",
        "Ans-It promotes code flexibility by allowing different objects to be processed in a uniform manner.\n",
        "\n",
        "15.What is an abstract class in Python?\n",
        "Ans-An abstract class (from abc module) cannot be instantiated and contains abstract methods that must be implemented by subclasses.\n",
        "\n",
        "16.What are the advantages of OOP?\n",
        "Ans-Code reusability\n",
        "Encapsulation for better security\n",
        "Modular and scalable programs\n",
        "Easy maintenance\n",
        "\n",
        "17.What is the difference between a class variable and an instance variable?\n",
        "Ans-Class variables are shared among all instances of a class.\n",
        "Instance variables are unique to each object.\n",
        "\n",
        "18.What is multiple inheritance in Python?\n",
        "Ans-Multiple inheritance allows a class to inherit from more than one parent class.\n",
        "\n",
        "19.Explain the purpose of __str__ and __repr__ methods in Python.\n",
        "Ans-__str__: Provides a human-readable string representation.\n",
        "__repr__: Provides an unambiguous representation for debugging.\n",
        "\n",
        "20.What is the significance of the super() function in Python?\n",
        "Ans-It calls a method from the parent class to enable method resolution in multiple inheritance.\n",
        "\n",
        "21.What is the significance of the __del__ method in Python?\n",
        "Ans-It is a destructor method that gets called when an object is deleted.\n",
        "\n",
        "22.What is the difference between @staticmethod and @classmethod in Python?\n",
        "Ans-@staticmethod: Does not access class or instance attributes.\n",
        "@classmethod: Modifies class-level attributes.\n",
        "\n",
        "23.How does polymorphism work in Python with inheritance?\n",
        "Ans-Polymorphism allows child classes to override parent class methods while maintaining a common interface.\n",
        "\n",
        "24.What is method chaining in Python OOP?\n",
        "Ans-It allows multiple methods to be called sequentially in a single statement.\n",
        "\n",
        "25.What is the purpose of the __call__ method in Python?\n",
        "Ans-It makes an instance of a class callable like a function.\n",
        "\n"
      ],
      "metadata": {
        "id": "Qiz89SW-8uC_"
      }
    },
    {
      "cell_type": "code",
      "source": [
        "#Practical Questions-:\n",
        "\n",
        "class Animal:\n",
        "    def speak(self):\n",
        "        print(\"This is an animal.\")\n",
        "\n",
        "class Dog(Animal):\n",
        "    def speak(self):\n",
        "        print(\"Bark!\")\n",
        "\n",
        "d = Dog()\n",
        "d.speak()"
      ],
      "metadata": {
        "colab": {
          "base_uri": "https://localhost:8080/"
        },
        "id": "5Ifd7zy1-cha",
        "outputId": "9371e556-edc8-4a37-f0f9-9cc9ef05a2f1"
      },
      "execution_count": 1,
      "outputs": [
        {
          "output_type": "stream",
          "name": "stdout",
          "text": [
            "Bark!\n"
          ]
        }
      ]
    },
    {
      "cell_type": "code",
      "source": [
        "from abc import ABC, abstractmethod\n",
        "\n",
        "class Shape(ABC):\n",
        "    @abstractmethod\n",
        "    def area(self):\n",
        "        pass\n",
        "\n",
        "class Circle(Shape):\n",
        "    def __init__(self, radius):\n",
        "        self.radius = radius\n",
        "\n",
        "    def area(self):\n",
        "        return 3.14 * self.radius ** 2\n",
        "\n",
        "class Rectangle(Shape):\n",
        "    def __init__(self, length, width):\n",
        "        self.length = length\n",
        "        self.width = width\n",
        "\n",
        "    def area(self):\n",
        "        return self.length * self.width\n",
        "\n",
        "c = Circle(5)\n",
        "r = Rectangle(4, 5)\n",
        "print(c.area(), r.area())"
      ],
      "metadata": {
        "colab": {
          "base_uri": "https://localhost:8080/"
        },
        "id": "w_GF5LC7-2qN",
        "outputId": "ceedc764-19f2-48d2-8a76-b2a520d7f777"
      },
      "execution_count": 2,
      "outputs": [
        {
          "output_type": "stream",
          "name": "stdout",
          "text": [
            "78.5 20\n"
          ]
        }
      ]
    },
    {
      "cell_type": "code",
      "source": [
        "class Vehicle:\n",
        "    def __init__(self, vehicle_type):\n",
        "        self.type = vehicle_type\n",
        "\n",
        "class Car(Vehicle):\n",
        "    def __init__(self, brand, vehicle_type=\"Car\"):\n",
        "        super().__init__(vehicle_type)\n",
        "        self.brand = brand\n",
        "\n",
        "class ElectricCar(Car):\n",
        "    def __init__(self, brand, battery_capacity):\n",
        "        super().__init__(brand)\n",
        "        self.battery_capacity = battery_capacity\n",
        "\n",
        "e_car = ElectricCar(\"Tesla\", \"100 kWh\")\n",
        "print(e_car.type, e_car.brand, e_car.battery_capacity)"
      ],
      "metadata": {
        "colab": {
          "base_uri": "https://localhost:8080/"
        },
        "id": "EXDX--sQ-91e",
        "outputId": "b1496576-df77-4883-a668-486523c75c93"
      },
      "execution_count": 3,
      "outputs": [
        {
          "output_type": "stream",
          "name": "stdout",
          "text": [
            "Car Tesla 100 kWh\n"
          ]
        }
      ]
    },
    {
      "cell_type": "code",
      "source": [
        "class BankAccount:\n",
        "    def __init__(self, initial_balance=0):\n",
        "        self.__balance = initial_balance\n",
        "\n",
        "    def deposit(self, amount):\n",
        "        self.__balance += amount\n",
        "\n",
        "    def withdraw(self, amount):\n",
        "        if amount <= self.__balance:\n",
        "            self.__balance -= amount\n",
        "        else:\n",
        "            print(\"Insufficient funds\")\n",
        "\n",
        "    def get_balance(self):\n",
        "        return self.__balance\n",
        "\n",
        "acc = BankAccount(1000)\n",
        "acc.deposit(500)\n",
        "acc.withdraw(300)\n",
        "print(acc.get_balance())"
      ],
      "metadata": {
        "colab": {
          "base_uri": "https://localhost:8080/"
        },
        "id": "P4gdAxy0_FgL",
        "outputId": "d87f3a37-94b4-42f2-8ce0-901148d34ea4"
      },
      "execution_count": 4,
      "outputs": [
        {
          "output_type": "stream",
          "name": "stdout",
          "text": [
            "1200\n"
          ]
        }
      ]
    },
    {
      "cell_type": "code",
      "source": [
        "class Instrument:\n",
        "    def play(self):\n",
        "        print(\"Playing an instrument\")\n",
        "\n",
        "class Guitar(Instrument):\n",
        "    def play(self):\n",
        "        print(\"Strumming the guitar\")\n",
        "\n",
        "class Piano(Instrument):\n",
        "    def play(self):\n",
        "        print(\"Playing the piano\")\n",
        "\n",
        "g = Guitar()\n",
        "p = Piano()\n",
        "g.play()\n",
        "p.play()"
      ],
      "metadata": {
        "colab": {
          "base_uri": "https://localhost:8080/"
        },
        "id": "bM_eveEa_JxN",
        "outputId": "ac6d04df-e99a-4d7c-8e18-c63d844d2951"
      },
      "execution_count": 5,
      "outputs": [
        {
          "output_type": "stream",
          "name": "stdout",
          "text": [
            "Strumming the guitar\n",
            "Playing the piano\n"
          ]
        }
      ]
    },
    {
      "cell_type": "code",
      "source": [
        "class MathOperations:\n",
        "    @classmethod\n",
        "    def add_numbers(cls, a, b):\n",
        "        return a + b\n",
        "\n",
        "    @staticmethod\n",
        "    def subtract_numbers(a, b):\n",
        "        return a - b\n",
        "\n",
        "print(MathOperations.add_numbers(5, 3))\n",
        "print(MathOperations.subtract_numbers(10, 4))"
      ],
      "metadata": {
        "colab": {
          "base_uri": "https://localhost:8080/"
        },
        "id": "rKsI6TnV_PMO",
        "outputId": "f953af37-9fc7-4d0e-bfde-5cd25dd262d2"
      },
      "execution_count": 6,
      "outputs": [
        {
          "output_type": "stream",
          "name": "stdout",
          "text": [
            "8\n",
            "6\n"
          ]
        }
      ]
    },
    {
      "cell_type": "code",
      "source": [
        "class Person:\n",
        "    count = 0\n",
        "\n",
        "    def __init__(self, name):\n",
        "        self.name = name\n",
        "        Person.count += 1\n",
        "\n",
        "    @classmethod\n",
        "    def total_persons(cls):\n",
        "        return cls.count\n",
        "\n",
        "p1 = Person(\"Alice\")\n",
        "p2 = Person(\"Bob\")\n",
        "print(Person.total_persons())"
      ],
      "metadata": {
        "colab": {
          "base_uri": "https://localhost:8080/"
        },
        "id": "g5p18WjP_S8G",
        "outputId": "1f22b504-1f64-4529-c7b0-6320f22b2d8d"
      },
      "execution_count": 7,
      "outputs": [
        {
          "output_type": "stream",
          "name": "stdout",
          "text": [
            "2\n"
          ]
        }
      ]
    },
    {
      "cell_type": "code",
      "source": [
        "class Fraction:\n",
        "    def __init__(self, numerator, denominator):\n",
        "        self.numerator = numerator\n",
        "        self.denominator = denominator\n",
        "\n",
        "    def __str__(self):\n",
        "        return f\"{self.numerator}/{self.denominator}\"\n",
        "\n",
        "f = Fraction(3, 4)\n",
        "print(f)"
      ],
      "metadata": {
        "colab": {
          "base_uri": "https://localhost:8080/"
        },
        "id": "5J_HWdnX_XEV",
        "outputId": "47f3e3e3-79ba-49d2-8281-e23944b1df05"
      },
      "execution_count": 8,
      "outputs": [
        {
          "output_type": "stream",
          "name": "stdout",
          "text": [
            "3/4\n"
          ]
        }
      ]
    },
    {
      "cell_type": "code",
      "source": [
        "class Vector:\n",
        "    def __init__(self, x, y):\n",
        "        self.x = x\n",
        "        self.y = y\n",
        "\n",
        "    def __add__(self, other):\n",
        "        return Vector(self.x + other.x, self.y + other.y)\n",
        "\n",
        "    def __str__(self):\n",
        "        return f\"Vector({self.x}, {self.y})\"\n",
        "\n",
        "v1 = Vector(2, 3)\n",
        "v2 = Vector(4, 5)\n",
        "print(v1 + v2)"
      ],
      "metadata": {
        "colab": {
          "base_uri": "https://localhost:8080/"
        },
        "id": "mZ_-_1gP_aQY",
        "outputId": "b61178d7-d116-48eb-982d-52257ac41a66"
      },
      "execution_count": 9,
      "outputs": [
        {
          "output_type": "stream",
          "name": "stdout",
          "text": [
            "Vector(6, 8)\n"
          ]
        }
      ]
    },
    {
      "cell_type": "code",
      "source": [
        "class Person:\n",
        "    def __init__(self, name, age):\n",
        "        self.name = name\n",
        "        self.age = age\n",
        "\n",
        "    def greet(self):\n",
        "        print(f\"Hello, my name is {self.name} and I am {self.age} years old.\")\n",
        "\n",
        "p = Person(\"John\", 25)\n",
        "p.greet()"
      ],
      "metadata": {
        "colab": {
          "base_uri": "https://localhost:8080/"
        },
        "id": "1CEG1KVr_ePx",
        "outputId": "2198075a-321f-4700-a8bb-b02d6499d0e8"
      },
      "execution_count": 10,
      "outputs": [
        {
          "output_type": "stream",
          "name": "stdout",
          "text": [
            "Hello, my name is John and I am 25 years old.\n"
          ]
        }
      ]
    },
    {
      "cell_type": "code",
      "source": [
        "class Student:\n",
        "    def __init__(self, name, grades):\n",
        "        self.name = name\n",
        "        self.grades = grades\n",
        "\n",
        "    def average_grade(self):\n",
        "        return sum(self.grades) / len(self.grades)\n",
        "\n",
        "s = Student(\"Alice\", [85, 90, 78])\n",
        "print(s.average_grade())"
      ],
      "metadata": {
        "colab": {
          "base_uri": "https://localhost:8080/"
        },
        "id": "5iVWdk6v_gj4",
        "outputId": "ba5295f4-e519-4b1e-e054-c2adfc598ed1"
      },
      "execution_count": 11,
      "outputs": [
        {
          "output_type": "stream",
          "name": "stdout",
          "text": [
            "84.33333333333333\n"
          ]
        }
      ]
    },
    {
      "cell_type": "code",
      "source": [
        "class Rectangle:\n",
        "    def __init__(self):\n",
        "        self.length = 0\n",
        "        self.width = 0\n",
        "\n",
        "    def set_dimensions(self, length, width):\n",
        "        self.length = length\n",
        "        self.width = width\n",
        "\n",
        "    def area(self):\n",
        "        return self.length * self.width\n",
        "\n",
        "r = Rectangle()\n",
        "r.set_dimensions(4, 5)\n",
        "print(r.area())"
      ],
      "metadata": {
        "colab": {
          "base_uri": "https://localhost:8080/"
        },
        "id": "6A9Uc2yH_jTu",
        "outputId": "c8c131a9-6c45-447a-823a-29ffb7d2cb78"
      },
      "execution_count": 12,
      "outputs": [
        {
          "output_type": "stream",
          "name": "stdout",
          "text": [
            "20\n"
          ]
        }
      ]
    },
    {
      "cell_type": "code",
      "source": [
        "class Employee:\n",
        "    def __init__(self, hours_worked, hourly_rate):\n",
        "        self.hours_worked = hours_worked\n",
        "        self.hourly_rate = hourly_rate\n",
        "\n",
        "    def calculate_salary(self):\n",
        "        return self.hours_worked * self.hourly_rate\n",
        "\n",
        "class Manager(Employee):\n",
        "    def __init__(self, hours_worked, hourly_rate, bonus):\n",
        "        super().__init__(hours_worked, hourly_rate)\n",
        "        self.bonus = bonus\n",
        "\n",
        "    def calculate_salary(self):\n",
        "        return super().calculate_salary() + self.bonus\n",
        "\n",
        "m = Manager(40, 50, 500)\n",
        "print(m.calculate_salary())"
      ],
      "metadata": {
        "colab": {
          "base_uri": "https://localhost:8080/"
        },
        "id": "LyEj7SQ3_ofq",
        "outputId": "3d3dbc5e-7361-4f09-a6d5-1aa98913a975"
      },
      "execution_count": 13,
      "outputs": [
        {
          "output_type": "stream",
          "name": "stdout",
          "text": [
            "2500\n"
          ]
        }
      ]
    },
    {
      "cell_type": "code",
      "source": [
        "class Product:\n",
        "    def __init__(self, name, price, quantity):\n",
        "        self.name = name\n",
        "        self.price = price\n",
        "        self.quantity = quantity\n",
        "\n",
        "    def total_price(self):\n",
        "        return self.price * self.quantity\n",
        "\n",
        "p = Product(\"Laptop\", 1000, 3)\n",
        "print(p.total_price())"
      ],
      "metadata": {
        "colab": {
          "base_uri": "https://localhost:8080/"
        },
        "id": "uhNGwdBJ_q-K",
        "outputId": "ceccb3f0-a607-4a3b-d081-3026e2ecd8df"
      },
      "execution_count": 14,
      "outputs": [
        {
          "output_type": "stream",
          "name": "stdout",
          "text": [
            "3000\n"
          ]
        }
      ]
    },
    {
      "cell_type": "code",
      "source": [
        "from abc import ABC, abstractmethod\n",
        "\n",
        "class Animal(ABC):\n",
        "    @abstractmethod\n",
        "    def sound(self):\n",
        "        pass\n",
        "\n",
        "class Cow(Animal):\n",
        "    def sound(self):\n",
        "        print(\"Moo\")\n",
        "\n",
        "class Sheep(Animal):\n",
        "    def sound(self):\n",
        "        print(\"Baa\")\n",
        "\n",
        "c = Cow()\n",
        "s = Sheep()\n",
        "c.sound()\n",
        "s.sound()"
      ],
      "metadata": {
        "colab": {
          "base_uri": "https://localhost:8080/"
        },
        "id": "ifWVQX5D_toc",
        "outputId": "d398c92e-a08e-4dda-8e47-0170f4216957"
      },
      "execution_count": 15,
      "outputs": [
        {
          "output_type": "stream",
          "name": "stdout",
          "text": [
            "Moo\n",
            "Baa\n"
          ]
        }
      ]
    },
    {
      "cell_type": "code",
      "source": [
        "class Book:\n",
        "    def __init__(self, title, author, year_published):\n",
        "        self.title = title\n",
        "        self.author = author\n",
        "        self.year_published = year_published\n",
        "\n",
        "    def get_book_info(self):\n",
        "        return f\"'{self.title}' by {self.author}, published in {self.year_published}\"\n",
        "\n",
        "b = Book(\"1984\", \"George Orwell\", 1949)\n",
        "print(b.get_book_info())"
      ],
      "metadata": {
        "colab": {
          "base_uri": "https://localhost:8080/"
        },
        "id": "N275Ukgq_wDK",
        "outputId": "8bec5d46-cad9-4fe9-8e78-cfb2936b7c82"
      },
      "execution_count": 16,
      "outputs": [
        {
          "output_type": "stream",
          "name": "stdout",
          "text": [
            "'1984' by George Orwell, published in 1949\n"
          ]
        }
      ]
    },
    {
      "cell_type": "code",
      "source": [
        "class House:\n",
        "    def __init__(self, address, price):\n",
        "        self.address = address\n",
        "        self.price = price\n",
        "\n",
        "class Mansion(House):\n",
        "    def __init__(self, address, price, number_of_rooms):\n",
        "        super().__init__(address, price)\n",
        "        self.number_of_rooms = number_of_rooms\n",
        "\n",
        "m = Mansion(\"123 Luxury Lane\", 5000000, 10)\n",
        "print(m.address, m.price, m.number_of_rooms)"
      ],
      "metadata": {
        "colab": {
          "base_uri": "https://localhost:8080/"
        },
        "id": "wLR7pZWj_zZ0",
        "outputId": "809c4be0-8c41-4783-c947-4b62d370558b"
      },
      "execution_count": 17,
      "outputs": [
        {
          "output_type": "stream",
          "name": "stdout",
          "text": [
            "123 Luxury Lane 5000000 10\n"
          ]
        }
      ]
    },
    {
      "cell_type": "code",
      "source": [
        "class House:\n",
        "    def __init__(self, address, price):\n",
        "        self.address = address\n",
        "        self.price = price\n",
        "\n",
        "    def get_details(self):\n",
        "        return f\"Address: {self.address}, Price: {self.price}\"\n",
        "\n",
        "class Mansion(House):\n",
        "    def __init__(self, address, price, number_of_rooms):\n",
        "        super().__init__(address, price)\n",
        "        self.number_of_rooms = number_of_rooms\n",
        "\n",
        "    def get_details(self):\n",
        "        return f\"Address: {self.address}, Price: {self.price}, Rooms: {self.number_of_rooms}\"\n",
        "\n",
        "m = Mansion(\"123 Luxury Lane\", 5000000, 10)\n",
        "print(m.get_details())"
      ],
      "metadata": {
        "colab": {
          "base_uri": "https://localhost:8080/"
        },
        "id": "7ZUC1MFx_2Ug",
        "outputId": "5d295ce0-9e8c-4ec2-9ce5-8862dc735a29"
      },
      "execution_count": 18,
      "outputs": [
        {
          "output_type": "stream",
          "name": "stdout",
          "text": [
            "Address: 123 Luxury Lane, Price: 5000000, Rooms: 10\n"
          ]
        }
      ]
    },
    {
      "cell_type": "code",
      "source": [],
      "metadata": {
        "id": "ClMSKYvRAByT"
      },
      "execution_count": null,
      "outputs": []
    }
  ]
}